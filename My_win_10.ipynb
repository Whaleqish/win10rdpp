{
  "cells": [
    {
      "cell_type": "markdown",
      "metadata": {
        "id": "view-in-github",
        "colab_type": "text"
      },
      "source": [
        "<a href=\"https://colab.research.google.com/github/alamin-sarkar/win10rdp/blob/main/My_win_10.ipynb\" target=\"_parent\"><img src=\"https://colab.research.google.com/assets/colab-badge.svg\" alt=\"Open In Colab\"/></a>"
      ]
    },
    {
      "cell_type": "code",
      "source": [
        "!wget https://raw.githubusercontent.com/alamin-sarkar/win10rdp/main/10.sh"
      ],
      "metadata": {
        "id": "uRXFESt-fQCB"
      },
      "execution_count": null,
      "outputs": []
    },
    {
      "cell_type": "code",
      "source": [
        "!sh 10.sh"
      ],
      "metadata": {
        "colab": {
          "base_uri": "https://localhost:8080/"
        },
        "id": "ukUJDLgJf1VI",
        "outputId": "cbdeb9f8-5aec-4972-c504-35c4684ba0c9"
      },
      "execution_count": null,
      "outputs": [
        {
          "output_type": "stream",
          "name": "stdout",
          "text": [
            "Authtoken saved to configuration file: /root/.ngrok2/ngrok.yml\n",
            "Please wait for installing...\n",
            "nohup: appending output to 'nohup.out'\n",
            "Installing QEMU (2-3m)...\n",
            "Downloading Windows Disk...\n",
            "  % Total    % Received % Xferd  Average Speed   Time    Time     Time  Current\n",
            "                                 Dload  Upload   Total   Spent    Left  Speed\n",
            "100   205  100   205    0     0   7592      0 --:--:-- --:--:-- --:--:--  7884\n",
            "100   190    0   190    0     0   1085      0 --:--:-- --:--:-- --:--:--  1085\n",
            "100   158    0   158    0     0    652      0 --:--:-- --:--:-- --:--:--   652\n",
            "100   167    0   167    0     0    535      0 --:--:-- --:--:-- --:--:--   535\n",
            "100   300    0   300    0     0    746      0 --:--:-- --:--:-- --:--:--   746\n",
            "100   846  100   846    0     0   1958      0 --:--:-- --:--:-- --:--:--  1958\n",
            "100 3876M  100 3876M    0     0  17.8M      0  0:03:36  0:03:36 --:--:-- 17.8M\n",
            "Windows 10 x64 Lite On Google Colab\n",
            "Your VNC IP Address:\n",
            "0.tcp.ngrok.io:10609\n",
            "Note: Use Right-Click Or Ctrl+C To Copy\n",
            "Please Keep Colab Tab Open, Maximum Time 12h\n",
            "Enjoy!!!\n"
          ]
        }
      ]
    }
  ],
  "metadata": {
    "colab": {
      "collapsed_sections": [],
      "name": "My win 10.ipynb",
      "provenance": [],
      "authorship_tag": "ABX9TyMvViah1vZMQSY9zz0A0whq",
      "include_colab_link": true
    },
    "kernelspec": {
      "display_name": "Python 3",
      "name": "python3"
    },
    "language_info": {
      "name": "python"
    }
  },
  "nbformat": 4,
  "nbformat_minor": 0
}